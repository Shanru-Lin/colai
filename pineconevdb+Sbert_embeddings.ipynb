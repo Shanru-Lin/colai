{
  "cells": [
    {
      "cell_type": "code",
      "source": [
        "!pip install datasets\n",
        "!pip install transformers\n",
        "!pip install apache-beam\n",
        "!pip install tiktoken\n",
        "!pip install langchain\n",
        "!pip install openai\n",
        "!pip install pinecone\n",
        "!pip install pinecone-client"
      ],
      "metadata": {
        "colab": {
          "base_uri": "https://localhost:8080/"
        },
        "id": "w_hfV43q4E5n",
        "outputId": "a438daf8-953e-488c-e998-a4d85796a450"
      },
      "execution_count": null,
      "outputs": [
        {
          "output_type": "stream",
          "name": "stdout",
          "text": [
            "Requirement already satisfied: datasets in /usr/local/lib/python3.10/dist-packages (2.13.1)\n",
            "Requirement already satisfied: numpy>=1.17 in /usr/local/lib/python3.10/dist-packages (from datasets) (1.22.4)\n",
            "Requirement already satisfied: pyarrow>=8.0.0 in /usr/local/lib/python3.10/dist-packages (from datasets) (9.0.0)\n",
            "Requirement already satisfied: dill<0.3.7,>=0.3.0 in /usr/local/lib/python3.10/dist-packages (from datasets) (0.3.1.1)\n",
            "Requirement already satisfied: pandas in /usr/local/lib/python3.10/dist-packages (from datasets) (1.5.3)\n",
            "Requirement already satisfied: requests>=2.19.0 in /usr/local/lib/python3.10/dist-packages (from datasets) (2.27.1)\n",
            "Requirement already satisfied: tqdm>=4.62.1 in /usr/local/lib/python3.10/dist-packages (from datasets) (4.65.0)\n",
            "Requirement already satisfied: xxhash in /usr/local/lib/python3.10/dist-packages (from datasets) (3.2.0)\n",
            "Requirement already satisfied: multiprocess in /usr/local/lib/python3.10/dist-packages (from datasets) (0.70.14)\n",
            "Requirement already satisfied: fsspec[http]>=2021.11.1 in /usr/local/lib/python3.10/dist-packages (from datasets) (2023.6.0)\n",
            "Requirement already satisfied: aiohttp in /usr/local/lib/python3.10/dist-packages (from datasets) (3.8.4)\n",
            "Requirement already satisfied: huggingface-hub<1.0.0,>=0.11.0 in /usr/local/lib/python3.10/dist-packages (from datasets) (0.16.4)\n",
            "Requirement already satisfied: packaging in /usr/local/lib/python3.10/dist-packages (from datasets) (23.1)\n",
            "Requirement already satisfied: pyyaml>=5.1 in /usr/local/lib/python3.10/dist-packages (from datasets) (6.0)\n",
            "Requirement already satisfied: attrs>=17.3.0 in /usr/local/lib/python3.10/dist-packages (from aiohttp->datasets) (23.1.0)\n",
            "Requirement already satisfied: charset-normalizer<4.0,>=2.0 in /usr/local/lib/python3.10/dist-packages (from aiohttp->datasets) (2.0.12)\n",
            "Requirement already satisfied: multidict<7.0,>=4.5 in /usr/local/lib/python3.10/dist-packages (from aiohttp->datasets) (6.0.4)\n",
            "Requirement already satisfied: async-timeout<5.0,>=4.0.0a3 in /usr/local/lib/python3.10/dist-packages (from aiohttp->datasets) (4.0.2)\n",
            "Requirement already satisfied: yarl<2.0,>=1.0 in /usr/local/lib/python3.10/dist-packages (from aiohttp->datasets) (1.9.2)\n",
            "Requirement already satisfied: frozenlist>=1.1.1 in /usr/local/lib/python3.10/dist-packages (from aiohttp->datasets) (1.4.0)\n",
            "Requirement already satisfied: aiosignal>=1.1.2 in /usr/local/lib/python3.10/dist-packages (from aiohttp->datasets) (1.3.1)\n",
            "Requirement already satisfied: filelock in /usr/local/lib/python3.10/dist-packages (from huggingface-hub<1.0.0,>=0.11.0->datasets) (3.12.2)\n",
            "Requirement already satisfied: typing-extensions>=3.7.4.3 in /usr/local/lib/python3.10/dist-packages (from huggingface-hub<1.0.0,>=0.11.0->datasets) (4.7.1)\n",
            "Requirement already satisfied: urllib3<1.27,>=1.21.1 in /usr/local/lib/python3.10/dist-packages (from requests>=2.19.0->datasets) (1.26.16)\n",
            "Requirement already satisfied: certifi>=2017.4.17 in /usr/local/lib/python3.10/dist-packages (from requests>=2.19.0->datasets) (2023.5.7)\n",
            "Requirement already satisfied: idna<4,>=2.5 in /usr/local/lib/python3.10/dist-packages (from requests>=2.19.0->datasets) (3.4)\n",
            "Collecting dill<0.3.7,>=0.3.0 (from datasets)\n",
            "  Using cached dill-0.3.6-py3-none-any.whl (110 kB)\n",
            "Requirement already satisfied: python-dateutil>=2.8.1 in /usr/local/lib/python3.10/dist-packages (from pandas->datasets) (2.8.2)\n",
            "Requirement already satisfied: pytz>=2020.1 in /usr/local/lib/python3.10/dist-packages (from pandas->datasets) (2022.7.1)\n",
            "Requirement already satisfied: six>=1.5 in /usr/local/lib/python3.10/dist-packages (from python-dateutil>=2.8.1->pandas->datasets) (1.16.0)\n",
            "\u001b[31mERROR: Operation cancelled by user\u001b[0m\u001b[31m\n",
            "\u001b[0mRequirement already satisfied: transformers in /usr/local/lib/python3.10/dist-packages (4.31.0)\n",
            "Requirement already satisfied: filelock in /usr/local/lib/python3.10/dist-packages (from transformers) (3.12.2)\n",
            "Requirement already satisfied: huggingface-hub<1.0,>=0.14.1 in /usr/local/lib/python3.10/dist-packages (from transformers) (0.16.4)\n",
            "Requirement already satisfied: numpy>=1.17 in /usr/local/lib/python3.10/dist-packages (from transformers) (1.22.4)\n",
            "Requirement already satisfied: packaging>=20.0 in /usr/local/lib/python3.10/dist-packages (from transformers) (23.1)\n",
            "Requirement already satisfied: pyyaml>=5.1 in /usr/local/lib/python3.10/dist-packages (from transformers) (6.0)\n",
            "Requirement already satisfied: regex!=2019.12.17 in /usr/local/lib/python3.10/dist-packages (from transformers) (2022.10.31)\n",
            "Requirement already satisfied: requests in /usr/local/lib/python3.10/dist-packages (from transformers) (2.27.1)\n",
            "Requirement already satisfied: tokenizers!=0.11.3,<0.14,>=0.11.1 in /usr/local/lib/python3.10/dist-packages (from transformers) (0.13.3)\n",
            "Requirement already satisfied: safetensors>=0.3.1 in /usr/local/lib/python3.10/dist-packages (from transformers) (0.3.1)\n",
            "Requirement already satisfied: tqdm>=4.27 in /usr/local/lib/python3.10/dist-packages (from transformers) (4.65.0)\n",
            "Requirement already satisfied: fsspec in /usr/local/lib/python3.10/dist-packages (from huggingface-hub<1.0,>=0.14.1->transformers) (2023.6.0)\n",
            "Requirement already satisfied: typing-extensions>=3.7.4.3 in /usr/local/lib/python3.10/dist-packages (from huggingface-hub<1.0,>=0.14.1->transformers) (4.7.1)\n",
            "Requirement already satisfied: urllib3<1.27,>=1.21.1 in /usr/local/lib/python3.10/dist-packages (from requests->transformers) (1.26.16)\n",
            "Requirement already satisfied: certifi>=2017.4.17 in /usr/local/lib/python3.10/dist-packages (from requests->transformers) (2023.5.7)\n",
            "Requirement already satisfied: charset-normalizer~=2.0.0 in /usr/local/lib/python3.10/dist-packages (from requests->transformers) (2.0.12)\n",
            "Requirement already satisfied: idna<4,>=2.5 in /usr/local/lib/python3.10/dist-packages (from requests->transformers) (3.4)\n",
            "\u001b[31mERROR: Operation cancelled by user\u001b[0m\u001b[31m\n",
            "\u001b[0mRequirement already satisfied: apache-beam in /usr/local/lib/python3.10/dist-packages (2.49.0)\n",
            "Requirement already satisfied: crcmod<2.0,>=1.7 in /usr/local/lib/python3.10/dist-packages (from apache-beam) (1.7)\n",
            "Requirement already satisfied: orjson<4.0 in /usr/local/lib/python3.10/dist-packages (from apache-beam) (3.9.2)\n",
            "Requirement already satisfied: dill<0.3.2,>=0.3.1.1 in /usr/local/lib/python3.10/dist-packages (from apache-beam) (0.3.1.1)\n",
            "Requirement already satisfied: cloudpickle~=2.2.1 in /usr/local/lib/python3.10/dist-packages (from apache-beam) (2.2.1)\n",
            "Requirement already satisfied: fastavro<2,>=0.23.6 in /usr/local/lib/python3.10/dist-packages (from apache-beam) (1.8.2)\n",
            "Requirement already satisfied: fasteners<1.0,>=0.3 in /usr/local/lib/python3.10/dist-packages (from apache-beam) (0.18)\n",
            "Requirement already satisfied: grpcio!=1.48.0,<2,>=1.33.1 in /usr/local/lib/python3.10/dist-packages (from apache-beam) (1.56.0)\n",
            "Requirement already satisfied: hdfs<3.0.0,>=2.1.0 in /usr/local/lib/python3.10/dist-packages (from apache-beam) (2.7.0)\n",
            "Requirement already satisfied: httplib2<0.23.0,>=0.8 in /usr/local/lib/python3.10/dist-packages (from apache-beam) (0.21.0)\n",
            "Requirement already satisfied: numpy<1.25.0,>=1.14.3 in /usr/local/lib/python3.10/dist-packages (from apache-beam) (1.22.4)\n",
            "Requirement already satisfied: objsize<0.7.0,>=0.6.1 in /usr/local/lib/python3.10/dist-packages (from apache-beam) (0.6.1)\n",
            "Requirement already satisfied: pymongo<5.0.0,>=3.8.0 in /usr/local/lib/python3.10/dist-packages (from apache-beam) (4.4.1)\n",
            "Requirement already satisfied: proto-plus<2,>=1.7.1 in /usr/local/lib/python3.10/dist-packages (from apache-beam) (1.22.3)\n",
            "Requirement already satisfied: protobuf<4.24.0,>=3.20.3 in /usr/local/lib/python3.10/dist-packages (from apache-beam) (3.20.3)\n",
            "Requirement already satisfied: pydot<2,>=1.2.0 in /usr/local/lib/python3.10/dist-packages (from apache-beam) (1.4.2)\n",
            "Requirement already satisfied: python-dateutil<3,>=2.8.0 in /usr/local/lib/python3.10/dist-packages (from apache-beam) (2.8.2)\n",
            "Requirement already satisfied: pytz>=2018.3 in /usr/local/lib/python3.10/dist-packages (from apache-beam) (2022.7.1)\n",
            "Requirement already satisfied: regex>=2020.6.8 in /usr/local/lib/python3.10/dist-packages (from apache-beam) (2022.10.31)\n",
            "Requirement already satisfied: requests<3.0.0,>=2.24.0 in /usr/local/lib/python3.10/dist-packages (from apache-beam) (2.27.1)\n",
            "Requirement already satisfied: typing-extensions>=3.7.0 in /usr/local/lib/python3.10/dist-packages (from apache-beam) (4.7.1)\n",
            "Requirement already satisfied: zstandard<1,>=0.18.0 in /usr/local/lib/python3.10/dist-packages (from apache-beam) (0.21.0)\n",
            "Requirement already satisfied: pyarrow<12.0.0,>=3.0.0 in /usr/local/lib/python3.10/dist-packages (from apache-beam) (9.0.0)\n",
            "Requirement already satisfied: docopt in /usr/local/lib/python3.10/dist-packages (from hdfs<3.0.0,>=2.1.0->apache-beam) (0.6.2)\n",
            "Requirement already satisfied: six>=1.9.0 in /usr/local/lib/python3.10/dist-packages (from hdfs<3.0.0,>=2.1.0->apache-beam) (1.16.0)\n",
            "Requirement already satisfied: pyparsing!=3.0.0,!=3.0.1,!=3.0.2,!=3.0.3,<4,>=2.4.2 in /usr/local/lib/python3.10/dist-packages (from httplib2<0.23.0,>=0.8->apache-beam) (3.1.0)\n",
            "Requirement already satisfied: dnspython<3.0.0,>=1.16.0 in /usr/local/lib/python3.10/dist-packages (from pymongo<5.0.0,>=3.8.0->apache-beam) (2.4.0)\n",
            "Requirement already satisfied: urllib3<1.27,>=1.21.1 in /usr/local/lib/python3.10/dist-packages (from requests<3.0.0,>=2.24.0->apache-beam) (1.26.16)\n",
            "Requirement already satisfied: certifi>=2017.4.17 in /usr/local/lib/python3.10/dist-packages (from requests<3.0.0,>=2.24.0->apache-beam) (2023.5.7)\n",
            "Requirement already satisfied: charset-normalizer~=2.0.0 in /usr/local/lib/python3.10/dist-packages (from requests<3.0.0,>=2.24.0->apache-beam) (2.0.12)\n",
            "Requirement already satisfied: idna<4,>=2.5 in /usr/local/lib/python3.10/dist-packages (from requests<3.0.0,>=2.24.0->apache-beam) (3.4)\n",
            "Requirement already satisfied: httpcore>=0.17.3 in /usr/local/lib/python3.10/dist-packages (from dnspython<3.0.0,>=1.16.0->pymongo<5.0.0,>=3.8.0->apache-beam) (0.17.3)\n",
            "Requirement already satisfied: sniffio<2.0,>=1.1 in /usr/local/lib/python3.10/dist-packages (from dnspython<3.0.0,>=1.16.0->pymongo<5.0.0,>=3.8.0->apache-beam) (1.3.0)\n",
            "Requirement already satisfied: h11<0.15,>=0.13 in /usr/local/lib/python3.10/dist-packages (from httpcore>=0.17.3->dnspython<3.0.0,>=1.16.0->pymongo<5.0.0,>=3.8.0->apache-beam) (0.14.0)\n",
            "Requirement already satisfied: anyio<5.0,>=3.0 in /usr/local/lib/python3.10/dist-packages (from httpcore>=0.17.3->dnspython<3.0.0,>=1.16.0->pymongo<5.0.0,>=3.8.0->apache-beam) (3.7.1)\n",
            "Requirement already satisfied: exceptiongroup in /usr/local/lib/python3.10/dist-packages (from anyio<5.0,>=3.0->httpcore>=0.17.3->dnspython<3.0.0,>=1.16.0->pymongo<5.0.0,>=3.8.0->apache-beam) (1.1.2)\n",
            "Requirement already satisfied: tiktoken in /usr/local/lib/python3.10/dist-packages (0.4.0)\n",
            "Requirement already satisfied: regex>=2022.1.18 in /usr/local/lib/python3.10/dist-packages (from tiktoken) (2022.10.31)\n",
            "Requirement already satisfied: requests>=2.26.0 in /usr/local/lib/python3.10/dist-packages (from tiktoken) (2.27.1)\n",
            "Requirement already satisfied: urllib3<1.27,>=1.21.1 in /usr/local/lib/python3.10/dist-packages (from requests>=2.26.0->tiktoken) (1.26.16)\n",
            "Requirement already satisfied: certifi>=2017.4.17 in /usr/local/lib/python3.10/dist-packages (from requests>=2.26.0->tiktoken) (2023.5.7)\n",
            "Requirement already satisfied: charset-normalizer~=2.0.0 in /usr/local/lib/python3.10/dist-packages (from requests>=2.26.0->tiktoken) (2.0.12)\n",
            "Requirement already satisfied: idna<4,>=2.5 in /usr/local/lib/python3.10/dist-packages (from requests>=2.26.0->tiktoken) (3.4)\n",
            "Requirement already satisfied: langchain in /usr/local/lib/python3.10/dist-packages (0.0.238)\n",
            "Requirement already satisfied: PyYAML>=5.4.1 in /usr/local/lib/python3.10/dist-packages (from langchain) (6.0)\n",
            "Requirement already satisfied: SQLAlchemy<3,>=1.4 in /usr/local/lib/python3.10/dist-packages (from langchain) (2.0.18)\n",
            "Requirement already satisfied: aiohttp<4.0.0,>=3.8.3 in /usr/local/lib/python3.10/dist-packages (from langchain) (3.8.4)\n",
            "Requirement already satisfied: async-timeout<5.0.0,>=4.0.0 in /usr/local/lib/python3.10/dist-packages (from langchain) (4.0.2)\n",
            "Requirement already satisfied: dataclasses-json<0.6.0,>=0.5.7 in /usr/local/lib/python3.10/dist-packages (from langchain) (0.5.12)\n",
            "Requirement already satisfied: langsmith<0.1.0,>=0.0.11 in /usr/local/lib/python3.10/dist-packages (from langchain) (0.0.11)\n",
            "Requirement already satisfied: numexpr<3.0.0,>=2.8.4 in /usr/local/lib/python3.10/dist-packages (from langchain) (2.8.4)\n",
            "Requirement already satisfied: numpy<2,>=1 in /usr/local/lib/python3.10/dist-packages (from langchain) (1.22.4)\n",
            "Requirement already satisfied: openapi-schema-pydantic<2.0,>=1.2 in /usr/local/lib/python3.10/dist-packages (from langchain) (1.2.4)\n",
            "Requirement already satisfied: pydantic<2,>=1 in /usr/local/lib/python3.10/dist-packages (from langchain) (1.10.11)\n",
            "Requirement already satisfied: requests<3,>=2 in /usr/local/lib/python3.10/dist-packages (from langchain) (2.27.1)\n",
            "Requirement already satisfied: tenacity<9.0.0,>=8.1.0 in /usr/local/lib/python3.10/dist-packages (from langchain) (8.2.2)\n",
            "Requirement already satisfied: attrs>=17.3.0 in /usr/local/lib/python3.10/dist-packages (from aiohttp<4.0.0,>=3.8.3->langchain) (23.1.0)\n",
            "Requirement already satisfied: charset-normalizer<4.0,>=2.0 in /usr/local/lib/python3.10/dist-packages (from aiohttp<4.0.0,>=3.8.3->langchain) (2.0.12)\n",
            "Requirement already satisfied: multidict<7.0,>=4.5 in /usr/local/lib/python3.10/dist-packages (from aiohttp<4.0.0,>=3.8.3->langchain) (6.0.4)\n",
            "Requirement already satisfied: yarl<2.0,>=1.0 in /usr/local/lib/python3.10/dist-packages (from aiohttp<4.0.0,>=3.8.3->langchain) (1.9.2)\n",
            "Requirement already satisfied: frozenlist>=1.1.1 in /usr/local/lib/python3.10/dist-packages (from aiohttp<4.0.0,>=3.8.3->langchain) (1.4.0)\n",
            "Requirement already satisfied: aiosignal>=1.1.2 in /usr/local/lib/python3.10/dist-packages (from aiohttp<4.0.0,>=3.8.3->langchain) (1.3.1)\n",
            "Requirement already satisfied: marshmallow<4.0.0,>=3.18.0 in /usr/local/lib/python3.10/dist-packages (from dataclasses-json<0.6.0,>=0.5.7->langchain) (3.19.0)\n",
            "Requirement already satisfied: typing-inspect<1,>=0.4.0 in /usr/local/lib/python3.10/dist-packages (from dataclasses-json<0.6.0,>=0.5.7->langchain) (0.9.0)\n",
            "Requirement already satisfied: typing-extensions>=4.2.0 in /usr/local/lib/python3.10/dist-packages (from pydantic<2,>=1->langchain) (4.7.1)\n",
            "Requirement already satisfied: urllib3<1.27,>=1.21.1 in /usr/local/lib/python3.10/dist-packages (from requests<3,>=2->langchain) (1.26.16)\n",
            "Requirement already satisfied: certifi>=2017.4.17 in /usr/local/lib/python3.10/dist-packages (from requests<3,>=2->langchain) (2023.5.7)\n",
            "Requirement already satisfied: idna<4,>=2.5 in /usr/local/lib/python3.10/dist-packages (from requests<3,>=2->langchain) (3.4)\n",
            "Requirement already satisfied: greenlet!=0.4.17 in /usr/local/lib/python3.10/dist-packages (from SQLAlchemy<3,>=1.4->langchain) (2.0.2)\n",
            "Requirement already satisfied: packaging>=17.0 in /usr/local/lib/python3.10/dist-packages (from marshmallow<4.0.0,>=3.18.0->dataclasses-json<0.6.0,>=0.5.7->langchain) (23.1)\n",
            "Requirement already satisfied: mypy-extensions>=0.3.0 in /usr/local/lib/python3.10/dist-packages (from typing-inspect<1,>=0.4.0->dataclasses-json<0.6.0,>=0.5.7->langchain) (1.0.0)\n",
            "Requirement already satisfied: openai in /usr/local/lib/python3.10/dist-packages (0.27.8)\n",
            "Requirement already satisfied: requests>=2.20 in /usr/local/lib/python3.10/dist-packages (from openai) (2.27.1)\n",
            "Requirement already satisfied: tqdm in /usr/local/lib/python3.10/dist-packages (from openai) (4.65.0)\n",
            "Requirement already satisfied: aiohttp in /usr/local/lib/python3.10/dist-packages (from openai) (3.8.4)\n",
            "Requirement already satisfied: urllib3<1.27,>=1.21.1 in /usr/local/lib/python3.10/dist-packages (from requests>=2.20->openai) (1.26.16)\n",
            "Requirement already satisfied: certifi>=2017.4.17 in /usr/local/lib/python3.10/dist-packages (from requests>=2.20->openai) (2023.5.7)\n",
            "Requirement already satisfied: charset-normalizer~=2.0.0 in /usr/local/lib/python3.10/dist-packages (from requests>=2.20->openai) (2.0.12)\n",
            "Requirement already satisfied: idna<4,>=2.5 in /usr/local/lib/python3.10/dist-packages (from requests>=2.20->openai) (3.4)\n",
            "Requirement already satisfied: attrs>=17.3.0 in /usr/local/lib/python3.10/dist-packages (from aiohttp->openai) (23.1.0)\n",
            "Requirement already satisfied: multidict<7.0,>=4.5 in /usr/local/lib/python3.10/dist-packages (from aiohttp->openai) (6.0.4)\n",
            "Requirement already satisfied: async-timeout<5.0,>=4.0.0a3 in /usr/local/lib/python3.10/dist-packages (from aiohttp->openai) (4.0.2)\n",
            "Requirement already satisfied: yarl<2.0,>=1.0 in /usr/local/lib/python3.10/dist-packages (from aiohttp->openai) (1.9.2)\n",
            "Requirement already satisfied: frozenlist>=1.1.1 in /usr/local/lib/python3.10/dist-packages (from aiohttp->openai) (1.4.0)\n",
            "Requirement already satisfied: aiosignal>=1.1.2 in /usr/local/lib/python3.10/dist-packages (from aiohttp->openai) (1.3.1)\n",
            "\u001b[31mERROR: Could not find a version that satisfies the requirement pinecone (from versions: none)\u001b[0m\u001b[31m\n",
            "\u001b[0m\u001b[31mERROR: No matching distribution found for pinecone\u001b[0m\u001b[31m\n",
            "\u001b[0mRequirement already satisfied: pinecone-client in /usr/local/lib/python3.10/dist-packages (2.2.2)\n",
            "Requirement already satisfied: requests>=2.19.0 in /usr/local/lib/python3.10/dist-packages (from pinecone-client) (2.27.1)\n",
            "Requirement already satisfied: pyyaml>=5.4 in /usr/local/lib/python3.10/dist-packages (from pinecone-client) (6.0)\n",
            "Requirement already satisfied: loguru>=0.5.0 in /usr/local/lib/python3.10/dist-packages (from pinecone-client) (0.7.0)\n",
            "Requirement already satisfied: typing-extensions>=3.7.4 in /usr/local/lib/python3.10/dist-packages (from pinecone-client) (4.7.1)\n",
            "Requirement already satisfied: dnspython>=2.0.0 in /usr/local/lib/python3.10/dist-packages (from pinecone-client) (2.4.0)\n",
            "Requirement already satisfied: python-dateutil>=2.5.3 in /usr/local/lib/python3.10/dist-packages (from pinecone-client) (2.8.2)\n",
            "Requirement already satisfied: urllib3>=1.21.1 in /usr/local/lib/python3.10/dist-packages (from pinecone-client) (1.26.16)\n",
            "Requirement already satisfied: tqdm>=4.64.1 in /usr/local/lib/python3.10/dist-packages (from pinecone-client) (4.65.0)\n",
            "Requirement already satisfied: numpy>=1.22.0 in /usr/local/lib/python3.10/dist-packages (from pinecone-client) (1.22.4)\n",
            "Requirement already satisfied: httpcore>=0.17.3 in /usr/local/lib/python3.10/dist-packages (from dnspython>=2.0.0->pinecone-client) (0.17.3)\n",
            "Requirement already satisfied: sniffio<2.0,>=1.1 in /usr/local/lib/python3.10/dist-packages (from dnspython>=2.0.0->pinecone-client) (1.3.0)\n",
            "Requirement already satisfied: six>=1.5 in /usr/local/lib/python3.10/dist-packages (from python-dateutil>=2.5.3->pinecone-client) (1.16.0)\n",
            "Requirement already satisfied: certifi>=2017.4.17 in /usr/local/lib/python3.10/dist-packages (from requests>=2.19.0->pinecone-client) (2023.5.7)\n",
            "Requirement already satisfied: charset-normalizer~=2.0.0 in /usr/local/lib/python3.10/dist-packages (from requests>=2.19.0->pinecone-client) (2.0.12)\n",
            "Requirement already satisfied: idna<4,>=2.5 in /usr/local/lib/python3.10/dist-packages (from requests>=2.19.0->pinecone-client) (3.4)\n",
            "Requirement already satisfied: h11<0.15,>=0.13 in /usr/local/lib/python3.10/dist-packages (from httpcore>=0.17.3->dnspython>=2.0.0->pinecone-client) (0.14.0)\n",
            "Requirement already satisfied: anyio<5.0,>=3.0 in /usr/local/lib/python3.10/dist-packages (from httpcore>=0.17.3->dnspython>=2.0.0->pinecone-client) (3.7.1)\n",
            "Requirement already satisfied: exceptiongroup in /usr/local/lib/python3.10/dist-packages (from anyio<5.0,>=3.0->httpcore>=0.17.3->dnspython>=2.0.0->pinecone-client) (1.1.2)\n"
          ]
        }
      ]
    },
    {
      "cell_type": "code",
      "execution_count": null,
      "metadata": {
        "colab": {
          "base_uri": "https://localhost:8080/"
        },
        "id": "GtGPa0z-d0iV",
        "outputId": "b55aab0b-4b76-43f2-cae7-6acf169da818"
      },
      "outputs": [
        {
          "output_type": "execute_result",
          "data": {
            "text/plain": [
              "<Encoding 'cl100k_base'>"
            ]
          },
          "metadata": {},
          "execution_count": 6
        }
      ],
      "source": [
        "import tiktoken\n",
        "\n",
        "tiktoken.encoding_for_model('gpt-3.5-turbo')"
      ]
    },
    {
      "cell_type": "code",
      "execution_count": null,
      "metadata": {
        "colab": {
          "base_uri": "https://localhost:8080/"
        },
        "id": "oB2-8jzYd3L3",
        "outputId": "90fa820a-b706-4764-af36-694104603114"
      },
      "outputs": [
        {
          "output_type": "execute_result",
          "data": {
            "text/plain": [
              "26"
            ]
          },
          "metadata": {},
          "execution_count": 7
        }
      ],
      "source": [
        "import tiktoken\n",
        "\n",
        "tokenizer = tiktoken.get_encoding('cl100k_base')\n",
        "\n",
        "# create the length function\n",
        "def tiktoken_len(text):\n",
        "    tokens = tokenizer.encode(\n",
        "        text,\n",
        "        disallowed_special=()\n",
        "    )\n",
        "    return len(tokens)\n",
        "\n",
        "tiktoken_len(\"hello I am a chunk of text and using the tiktoken_len function \"\n",
        "             \"we can find the length of this chunk of text in tokens\")"
      ]
    },
    {
      "cell_type": "code",
      "execution_count": null,
      "metadata": {
        "id": "lRwGJvn_d39y"
      },
      "outputs": [],
      "source": [
        "from langchain.text_splitter import RecursiveCharacterTextSplitter\n",
        "\n",
        "text_splitter = RecursiveCharacterTextSplitter(\n",
        "    chunk_size=400,\n",
        "    chunk_overlap=20,\n",
        "    length_function=tiktoken_len,\n",
        "    separators=[\"\\n\\n\", \"\\n\", \" \", \"\"]\n",
        ")"
      ]
    },
    {
      "cell_type": "code",
      "execution_count": null,
      "metadata": {
        "colab": {
          "base_uri": "https://localhost:8080/"
        },
        "id": "ZMgBK1Snd94Z",
        "outputId": "967b0523-df1b-4483-827a-72598555e8bc"
      },
      "outputs": [
        {
          "output_type": "execute_result",
          "data": {
            "text/plain": [
              "['Alan Mathison Turing OBE FRS (London, 23 June 1912 – Wilmslow, Cheshire, 7 June 1954) was an English mathematician and computer scientist. He was born in Maida Vale, London.\\n\\nEarly life and family \\nAlan Turing was born in Maida Vale, London on 23 June 1912. His father was part of a family of merchants from Scotland. His mother, Ethel Sara, was the daughter of an engineer.\\n\\nEducation \\nTuring went to St. Michael\\'s, a school at 20 Charles Road, St Leonards-on-sea, when he was five years old.\\n\"This is only a foretaste of what is to come, and only the shadow of what is going to be.” – Alan Turing.\\n\\nThe Stoney family were once prominent landlords, here in North Tipperary. His mother Ethel Sara Stoney (1881–1976) was daughter of Edward Waller Stoney (Borrisokane, North Tipperary) and Sarah Crawford (Cartron Abbey, Co. Longford); Protestant Anglo-Irish gentry.\\n\\nEducated in Dublin at Alexandra School and College; on October 1st 1907 she married Julius Mathison Turing, latter son of Reverend John Robert Turing and Fanny Boyd, in Dublin. Born on June 23rd 1912, Alan Turing would go on to be regarded as one of the greatest figures of the twentieth century.',\n",
              " 'A brilliant mathematician and cryptographer Alan was to become the founder of modern-day computer science and artificial intelligence; designing a machine at Bletchley Park to break secret Enigma encrypted messages used by the Nazi German war machine to protect sensitive commercial, diplomatic and military communications during World War 2. Thus, Turing made the single biggest contribution to the Allied victory in the war against Nazi Germany, possibly saving the lives of an estimated 2 million people, through his effort in shortening World War II.\\n\\nIn 2013, almost 60 years later, Turing received a posthumous Royal Pardon from Queen Elizabeth II. Today, the “Turing law” grants an automatic pardon to men who died before the law came into force, making it possible for living convicted gay men to seek pardons for offences now no longer on the statute book.\\n\\nAlas, Turing accidentally or otherwise lost his life in 1954, having been subjected by a British court to chemical castration, thus avoiding a custodial sentence. He is known to have ended his life at the age of 41 years, by eating an apple laced with cyanide.\\n\\nCareer \\nTuring was one of the people who worked on the first computers. He created the theoretical  Turing machine in 1936. The machine was imaginary, but it included the idea of a computer program.\\n\\nTuring was interested in artificial intelligence. He proposed the Turing test, to say when a machine could be called \"intelligent\". A computer could be said to \"think\" if a human talking with it could not tell it was a machine.',\n",
              " 'During World War II, Turing worked with others to break German ciphers (secret messages). He  worked for the Government Code and Cypher School (GC&CS) at Bletchley Park, Britain\\'s codebreaking centre that produced Ultra intelligence.\\nUsing cryptanalysis, he helped to break the codes of the Enigma machine. After that, he worked on other German codes.\\n\\nFrom 1945 to 1947, Turing worked on the design of the ACE (Automatic Computing Engine) at the National Physical Laboratory. He presented a paper on 19 February 1946. That paper was \"the first detailed design of a stored-program computer\". Although it was possible to build ACE, there were delays in starting the project. In late 1947 he returned to Cambridge for a sabbatical year. While he was at Cambridge, the Pilot ACE was built without him. It ran its first program on 10\\xa0May 1950.\\n\\nPrivate life \\nTuring was a homosexual man. In 1952, he admitted having had sex with a man in England. At that time, homosexual acts were illegal. Turing was convicted. He had to choose between going to jail and taking hormones to lower his sex drive. He decided to take the hormones. After his punishment, he became impotent. He also grew breasts.\\n\\nIn May 2012, a private member\\'s bill was put before the House of Lords to grant Turing a statutory pardon. In July 2013, the government supported it. A royal pardon was granted on 24 December 2013.\\n\\nDeath \\nIn 1954, Turing died from cyanide poisoning. The cyanide came from either an apple which was poisoned with cyanide, or from water that had cyanide in it. The reason for the confusion is that the police never tested the apple for cyanide. It is also suspected that he committed suicide.']"
            ]
          },
          "metadata": {},
          "execution_count": 9
        }
      ],
      "source": [
        "chunks = text_splitter.split_text(data[6]['text'])[:3]\n",
        "chunks"
      ]
    },
    {
      "cell_type": "code",
      "execution_count": null,
      "metadata": {
        "colab": {
          "base_uri": "https://localhost:8080/"
        },
        "id": "Nz84IjY0d-wU",
        "outputId": "4bf045ab-db8c-4b77-a412-649714c2dae7"
      },
      "outputs": [
        {
          "output_type": "execute_result",
          "data": {
            "text/plain": [
              "(299, 323, 382)"
            ]
          },
          "metadata": {},
          "execution_count": 10
        }
      ],
      "source": [
        "tiktoken_len(chunks[0]), tiktoken_len(chunks[1]), tiktoken_len(chunks[2])"
      ]
    },
    {
      "cell_type": "code",
      "source": [
        "# Embedding\n",
        "\n",
        "!pip install -q sentence-transformers\n",
        "!pip install -q langchain\n",
        "\n",
        "from langchain.embeddings import HuggingFaceEmbeddings\n",
        "import torch\n",
        "\n",
        "model_name = \"sentence-transformers/all-MiniLM-L6-v2\" # all-MiniLM-L6-v2: structure of SBert\n",
        "model_kwargs = {'device': 'cpu'}\n",
        "encode_kwargs = {'normalize_embeddings': False}\n",
        "hf = HuggingFaceEmbeddings(\n",
        "    model_name=model_name,\n",
        "    model_kwargs=model_kwargs,\n",
        "    encode_kwargs=encode_kwargs\n",
        ")"
      ],
      "metadata": {
        "id": "v78NBtiMPjch"
      },
      "execution_count": null,
      "outputs": []
    },
    {
      "cell_type": "code",
      "source": [
        "texts = [\n",
        "    'this is the first chunk of text',\n",
        "    'then another second chunk of text is hereeeeeeeeeeee'\n",
        "]\n",
        "res = torch.tensor(hf.embed_documents(texts))\n",
        "len(res),len(res[0])"
      ],
      "metadata": {
        "colab": {
          "base_uri": "https://localhost:8080/"
        },
        "id": "SoGlCHysPrxc",
        "outputId": "2511c134-13d1-44df-ff2a-73624e06d06a"
      },
      "execution_count": null,
      "outputs": [
        {
          "output_type": "execute_result",
          "data": {
            "text/plain": [
              "(2, 384)"
            ]
          },
          "metadata": {},
          "execution_count": 66
        }
      ]
    },
    {
      "cell_type": "code",
      "execution_count": null,
      "metadata": {
        "colab": {
          "base_uri": "https://localhost:8080/"
        },
        "id": "R_3BjFQ4eOv-",
        "outputId": "5ecaca0e-208c-4d36-e8ca-e11a2d35ed11"
      },
      "outputs": [
        {
          "name": "stdout",
          "output_type": "stream",
          "text": [
            "Pinecone API Key:··········\n",
            "Pinecone environment:us-west4-gcp-free\n"
          ]
        }
      ],
      "source": [
        "import pinecone\n",
        "\n",
        "\n",
        "YOUR_API_KEY = getpass(\"Pinecone API Key:\")\n",
        "YOUR_ENV = input(\"Pinecone environment:\")\n",
        "index_name = 'langchain-retrieval-augmentation'\n",
        "pinecone.init(\n",
        "    api_key=YOUR_API_KEY,\n",
        "    environment=YOUR_ENV\n",
        ")\n",
        "\n"
      ]
    },
    {
      "cell_type": "code",
      "source": [
        "pinecone.create_index(\n",
        "        name=\"firsttry\",\n",
        "        metric='cosine',\n",
        "        dimension=len(res[0])  # 1536 dim of text-embedding-ada-002\n",
        "    )"
      ],
      "metadata": {
        "id": "S8L8cMZcQcQ5"
      },
      "execution_count": null,
      "outputs": []
    },
    {
      "cell_type": "code",
      "execution_count": null,
      "metadata": {
        "colab": {
          "base_uri": "https://localhost:8080/"
        },
        "id": "oWnZepZ2ePlL",
        "outputId": "7c490844-3d9d-46e4-c187-0a69362950cc"
      },
      "outputs": [
        {
          "output_type": "execute_result",
          "data": {
            "text/plain": [
              "{'dimension': 384,\n",
              " 'index_fullness': 0.0,\n",
              " 'namespaces': {},\n",
              " 'total_vector_count': 0}"
            ]
          },
          "metadata": {},
          "execution_count": 131
        }
      ],
      "source": [
        "index = pinecone.Index(\"firsttry\")\n",
        "\n",
        "index.describe_index_stats()"
      ]
    },
    {
      "cell_type": "code",
      "source": [
        "from datasets import load_dataset\n",
        "\n",
        "data = load_dataset('csv', data_files='/content/output_v2_table.csv', encoding = \"unicode_escape\")\n"
      ],
      "metadata": {
        "colab": {
          "base_uri": "https://localhost:8080/",
          "height": 87,
          "referenced_widgets": [
            "afe77170ed6c4a96aae1b9ea872dbb38",
            "a10596f918004da38de201e6545be3ea",
            "e2621039f030490488e63c9adfea38c2",
            "8cd4b367cd264234b53fb7786d05a556",
            "d24d1a70ec1a42769ec2aee357fea6b3",
            "73e769a4b145422cae1116b57d7e84e7",
            "766a83c056c54cb8948da0add24c1bcb",
            "6a191b017c604d84bc6b947fb8f92c3b",
            "50c0613abf124945a1d01a6044750e6d",
            "2dc67d61e89e4f9eada25178b5529faf",
            "e4b169f4be9141ed9ad7302877f211d0"
          ]
        },
        "id": "mFv_nVAbWGnF",
        "outputId": "4d0fe5c4-7ebe-474f-be0e-a2c43fa97a03"
      },
      "execution_count": null,
      "outputs": [
        {
          "output_type": "stream",
          "name": "stderr",
          "text": [
            "WARNING:datasets.builder:Found cached dataset csv (/root/.cache/huggingface/datasets/csv/default-eee81aa1853f78b9/0.0.0/eea64c71ca8b46dd3f537ed218fc9bf495d5707789152eb2764f5c78fa66d59d)\n"
          ]
        },
        {
          "output_type": "display_data",
          "data": {
            "text/plain": [
              "  0%|          | 0/1 [00:00<?, ?it/s]"
            ],
            "application/vnd.jupyter.widget-view+json": {
              "version_major": 2,
              "version_minor": 0,
              "model_id": "afe77170ed6c4a96aae1b9ea872dbb38"
            }
          },
          "metadata": {}
        }
      ]
    },
    {
      "cell_type": "code",
      "source": [
        "data = data['train']\n",
        "dataset_name = data['Title']"
      ],
      "metadata": {
        "id": "oIgOxxwTUdQV"
      },
      "execution_count": null,
      "outputs": []
    },
    {
      "cell_type": "code",
      "execution_count": null,
      "metadata": {
        "colab": {
          "base_uri": "https://localhost:8080/",
          "height": 49,
          "referenced_widgets": [
            "8b9bb8174ce3499cb67216a88baacbda",
            "bccb182ccf594f85a9f5ef19183dfe6c",
            "cf6bd9c8e6c246e287aec7de3cde9e46",
            "516ae20184fb4812a7ca6c2b5fc15070",
            "5144c507d2004f0089a916fd760b67d4",
            "a1d0a91a0af9421eb9bdc2a85af69a61",
            "140289d8d72f4065862c0a0dda266b27",
            "a29824d88a82415ebbf9530b8ac8173a",
            "c35a34e5977244f097b386a46fb98925",
            "37b14f3f42a743dfa026d890adeb7235",
            "acadb4bdaf624d6e8b826766904e08b0"
          ]
        },
        "id": "VSg6RpiGeUj9",
        "outputId": "edab35f5-8c3e-43a4-b29f-a4f79108e6a1"
      },
      "outputs": [
        {
          "output_type": "display_data",
          "data": {
            "text/plain": [
              "  0%|          | 0/622 [00:00<?, ?it/s]"
            ],
            "application/vnd.jupyter.widget-view+json": {
              "version_major": 2,
              "version_minor": 0,
              "model_id": "8b9bb8174ce3499cb67216a88baacbda"
            }
          },
          "metadata": {}
        }
      ],
      "source": [
        "from tqdm.auto import tqdm\n",
        "from uuid import uuid4\n",
        "\n",
        "batch_limit = 100\n",
        "\n",
        "texts = []\n",
        "metadatas = []\n",
        "total_id = []\n",
        "for i, record in enumerate(tqdm(data)):\n",
        "    # first get metadata fields for this record\n",
        "    metadata = {\n",
        "        'area': record['Subject Area'],\n",
        "        'title': record['Title']\n",
        "    }\n",
        "    # now we create chunks from the record text\n",
        "    record_texts = text_splitter.split_text(record['Description'])\n",
        "    # create individual metadata dicts for each chunk\n",
        "    record_metadatas = [{\n",
        "        \"chunk\": j, \"Description\": text, **metadata\n",
        "    } for j, text in enumerate(record_texts)]\n",
        "    # append these to current batches\n",
        "    texts.extend(record_texts)\n",
        "    metadatas.extend(record_metadatas)\n",
        "    # if we have reached the batch_limit we can add texts\n",
        "    if len(texts) >= batch_limit:\n",
        "        ids = [str(uuid4()) for _ in range(len(texts))]\n",
        "        #embeds = embed.embed_documents(texts)\n",
        "        embeds = hf.embed_documents(texts)\n",
        "        index.upsert(vectors=zip(ids, embeds, metadatas))\n",
        "        texts = []\n",
        "        metadatas = []\n",
        "        total_id = total_id + ids\n"
      ]
    },
    {
      "cell_type": "code",
      "source": [
        "len(total_id)"
      ],
      "metadata": {
        "colab": {
          "base_uri": "https://localhost:8080/"
        },
        "id": "NYuv6MZHsIA3",
        "outputId": "aeaa06ee-ceb8-4559-d3bc-b39df8301e2f"
      },
      "execution_count": null,
      "outputs": [
        {
          "output_type": "execute_result",
          "data": {
            "text/plain": [
              "621"
            ]
          },
          "metadata": {},
          "execution_count": 137
        }
      ]
    },
    {
      "cell_type": "code",
      "source": [
        "if len(texts) > 0:\n",
        "    #ids = [i for i in range(len(texts))]\n",
        "    ids = [str(uuid4()) for _ in range(len(texts))]\n",
        "    embeds = hf.embed_documents(texts)\n",
        "    index.upsert(vectors=zip(ids, embeds, metadatas))\n",
        "    total_id = total_id + ids"
      ],
      "metadata": {
        "id": "glHQRs42ZfIJ"
      },
      "execution_count": null,
      "outputs": []
    },
    {
      "cell_type": "code",
      "execution_count": null,
      "metadata": {
        "colab": {
          "base_uri": "https://localhost:8080/"
        },
        "id": "gFSc4-TAeZIL",
        "outputId": "19d3629e-6c0f-457b-d370-c14c8967b40c"
      },
      "outputs": [
        {
          "output_type": "execute_result",
          "data": {
            "text/plain": [
              "{'dimension': 384,\n",
              " 'index_fullness': 0.0,\n",
              " 'namespaces': {'': {'vector_count': 621}},\n",
              " 'total_vector_count': 621}"
            ]
          },
          "metadata": {},
          "execution_count": 138
        }
      ],
      "source": [
        "index.describe_index_stats()"
      ]
    },
    {
      "cell_type": "code",
      "source": [
        "index = pinecone.Index(\"firsttry\")"
      ],
      "metadata": {
        "id": "YqunNkg9as-M"
      },
      "execution_count": null,
      "outputs": []
    },
    {
      "cell_type": "code",
      "source": [
        "index.fetch([total_id[3]])"
      ],
      "metadata": {
        "colab": {
          "base_uri": "https://localhost:8080/"
        },
        "id": "HUny5h2kaBeG",
        "outputId": "36943dc0-3d7a-49fb-e632-d65457417a04"
      },
      "execution_count": null,
      "outputs": [
        {
          "output_type": "execute_result",
          "data": {
            "text/plain": [
              "{'namespace': '',\n",
              " 'vectors': {'f3f02945-2346-4b38-a0cd-3fea6cd39cd6': {'id': 'f3f02945-2346-4b38-a0cd-3fea6cd39cd6',\n",
              "                                                      'metadata': {'Description': 'This '\n",
              "                                                                                  'data '\n",
              "                                                                                  'set '\n",
              "                                                                                  'contains '\n",
              "                                                                                  'weighted '\n",
              "                                                                                  'census '\n",
              "                                                                                  'data '\n",
              "                                                                                  'extracted '\n",
              "                                                                                  'from '\n",
              "                                                                                  'the '\n",
              "                                                                                  '1994 '\n",
              "                                                                                  'and '\n",
              "                                                                                  '1995 '\n",
              "                                                                                  'current '\n",
              "                                                                                  'population '\n",
              "                                                                                  'surveys '\n",
              "                                                                                  'conducted '\n",
              "                                                                                  'by '\n",
              "                                                                                  'the '\n",
              "                                                                                  'U.S. '\n",
              "                                                                                  'Census '\n",
              "                                                                                  'Bureau.',\n",
              "                                                                   'area': 'Social',\n",
              "                                                                   'chunk': 0.0,\n",
              "                                                                   'title': 'Census-Income '\n",
              "                                                                            '(KDD)'},\n",
              "                                                      'values': [-0.00564753218,\n",
              "                                                                 -0.0373716801,\n",
              "                                                                 0.00408904115,\n",
              "                                                                 0.0686693564,\n",
              "                                                                 -0.0130450511,\n",
              "                                                                 0.0441297702,\n",
              "                                                                 -0.0679787099,\n",
              "                                                                 -0.0197939351,\n",
              "                                                                 -0.0420903303,\n",
              "                                                                 -0.0138137816,\n",
              "                                                                 0.0309696533,\n",
              "                                                                 -0.0417556,\n",
              "                                                                 -0.00929947384,\n",
              "                                                                 -0.0691620111,\n",
              "                                                                 -0.0270636491,\n",
              "                                                                 0.0259395055,\n",
              "                                                                 0.0322398394,\n",
              "                                                                 0.0105537176,\n",
              "                                                                 0.038318444,\n",
              "                                                                 -0.0343907252,\n",
              "                                                                 -0.0153992316,\n",
              "                                                                 0.00520501472,\n",
              "                                                                 0.0485436544,\n",
              "                                                                 -0.0277313441,\n",
              "                                                                 -0.00145211327,\n",
              "                                                                 0.0127320243,\n",
              "                                                                 -0.0705939382,\n",
              "                                                                 -0.00675601931,\n",
              "                                                                 -0.0430149287,\n",
              "                                                                 0.0751196593,\n",
              "                                                                 0.0326666944,\n",
              "                                                                 0.0478575639,\n",
              "                                                                 0.0455663912,\n",
              "                                                                 0.018373277,\n",
              "                                                                 -0.0803143,\n",
              "                                                                 -0.0719222799,\n",
              "                                                                 -0.00912375934,\n",
              "                                                                 0.0943759233,\n",
              "                                                                 -0.00189725391,\n",
              "                                                                 -0.00363141438,\n",
              "                                                                 -0.0785065889,\n",
              "                                                                 -0.0326692425,\n",
              "                                                                 0.0676519498,\n",
              "                                                                 0.0516113825,\n",
              "                                                                 -0.00449046,\n",
              "                                                                 0.0404629894,\n",
              "                                                                 -0.111350194,\n",
              "                                                                 0.0553989559,\n",
              "                                                                 -0.0565685667,\n",
              "                                                                 0.169143096,\n",
              "                                                                 -0.0551205054,\n",
              "                                                                 0.115831159,\n",
              "                                                                 0.0927897766,\n",
              "                                                                 0.0709313303,\n",
              "                                                                 0.0483189486,\n",
              "                                                                 0.0101604797,\n",
              "                                                                 0.0653790608,\n",
              "                                                                 -0.00132861896,\n",
              "                                                                 0.00368795707,\n",
              "                                                                 0.0183580983,\n",
              "                                                                 0.00836759061,\n",
              "                                                                 0.00847686175,\n",
              "                                                                 -0.00710126897,\n",
              "                                                                 0.0195472799,\n",
              "                                                                 0.039319247,\n",
              "                                                                 0.0694543347,\n",
              "                                                                 -0.0319466814,\n",
              "                                                                 -0.0567344166,\n",
              "                                                                 0.0308579691,\n",
              "                                                                 -0.137033656,\n",
              "                                                                 0.0192752704,\n",
              "                                                                 0.00962237734,\n",
              "                                                                 -0.0766955,\n",
              "                                                                 -0.00673702406,\n",
              "                                                                 0.00530422339,\n",
              "                                                                 -0.0331604406,\n",
              "                                                                 0.00831173547,\n",
              "                                                                 0.01110123,\n",
              "                                                                 0.00243034912,\n",
              "                                                                 -0.00487911189,\n",
              "                                                                 0.003469093,\n",
              "                                                                 0.0390997864,\n",
              "                                                                 -0.0171338785,\n",
              "                                                                 0.0986490399,\n",
              "                                                                 -0.00666877301,\n",
              "                                                                 -0.0175871532,\n",
              "                                                                 -0.022866644,\n",
              "                                                                 0.0680750236,\n",
              "                                                                 -0.0815660208,\n",
              "                                                                 0.0737557784,\n",
              "                                                                 0.00526209641,\n",
              "                                                                 0.0887701362,\n",
              "                                                                 0.0347082727,\n",
              "                                                                 0.0636383891,\n",
              "                                                                 -0.00758994557,\n",
              "                                                                 0.011534173,\n",
              "                                                                 -0.0723086372,\n",
              "                                                                 -0.0381654128,\n",
              "                                                                 0.0747689456,\n",
              "                                                                 0.00111692771,\n",
              "                                                                 -0.0259150155,\n",
              "                                                                 0.014033976,\n",
              "                                                                 0.0143322032,\n",
              "                                                                 0.052431833,\n",
              "                                                                 -0.0995582938,\n",
              "                                                                 -0.0368125327,\n",
              "                                                                 -0.0142088262,\n",
              "                                                                 0.0289009307,\n",
              "                                                                 -0.0954299718,\n",
              "                                                                 0.0180897545,\n",
              "                                                                 -0.0035408386,\n",
              "                                                                 -0.103834599,\n",
              "                                                                 -0.0671201125,\n",
              "                                                                 0.0305799786,\n",
              "                                                                 0.0370675735,\n",
              "                                                                 -0.0860921144,\n",
              "                                                                 0.0363623351,\n",
              "                                                                 0.0685340688,\n",
              "                                                                 -0.0607604124,\n",
              "                                                                 0.101345085,\n",
              "                                                                 0.0640949607,\n",
              "                                                                 0.00216691545,\n",
              "                                                                 -0.071903348,\n",
              "                                                                 -0.0587420724,\n",
              "                                                                 0.0652137771,\n",
              "                                                                 -0.0449262932,\n",
              "                                                                 -0.0602932312,\n",
              "                                                                 -1.30565464e-33,\n",
              "                                                                 0.0790662467,\n",
              "                                                                 -0.125591516,\n",
              "                                                                 0.0357358754,\n",
              "                                                                 0.0181622896,\n",
              "                                                                 -0.0752544478,\n",
              "                                                                 -0.0172941815,\n",
              "                                                                 -0.0432187617,\n",
              "                                                                 -0.0392340347,\n",
              "                                                                 -0.0426959284,\n",
              "                                                                 -0.0180215687,\n",
              "                                                                 0.0493639782,\n",
              "                                                                 0.0433559678,\n",
              "                                                                 -0.0195413548,\n",
              "                                                                 0.113524884,\n",
              "                                                                 0.00508151157,\n",
              "                                                                 -0.00849032775,\n",
              "                                                                 -0.0116517907,\n",
              "                                                                 0.07950259,\n",
              "                                                                 0.00719186151,\n",
              "                                                                 0.0356155336,\n",
              "                                                                 0.0213492,\n",
              "                                                                 -0.0137646943,\n",
              "                                                                 0.0344729833,\n",
              "                                                                 -0.00318029104,\n",
              "                                                                 0.0179670155,\n",
              "                                                                 -0.0425238237,\n",
              "                                                                 -0.0541545935,\n",
              "                                                                 0.0459091552,\n",
              "                                                                 -0.0233164504,\n",
              "                                                                 -0.00549647678,\n",
              "                                                                 0.028551789,\n",
              "                                                                 -0.102272347,\n",
              "                                                                 -0.0291045401,\n",
              "                                                                 -0.124059133,\n",
              "                                                                 -0.00344948354,\n",
              "                                                                 0.0573962331,\n",
              "                                                                 0.0740795434,\n",
              "                                                                 0.0522056744,\n",
              "                                                                 0.0476849116,\n",
              "                                                                 -0.0092444988,\n",
              "                                                                 0.00503743859,\n",
              "                                                                 -0.00685006799,\n",
              "                                                                 0.0699769557,\n",
              "                                                                 0.0606516488,\n",
              "                                                                 0.00433606887,\n",
              "                                                                 0.0128036141,\n",
              "                                                                 0.0027415005,\n",
              "                                                                 0.0103723928,\n",
              "                                                                 0.0174149368,\n",
              "                                                                 0.0586562976,\n",
              "                                                                 -0.0153362323,\n",
              "                                                                 -0.0716286525,\n",
              "                                                                 -0.0717782229,\n",
              "                                                                 -0.00154152315,\n",
              "                                                                 -0.0609113164,\n",
              "                                                                 0.0726078,\n",
              "                                                                 0.0158320814,\n",
              "                                                                 -0.00860958919,\n",
              "                                                                 -0.00505952071,\n",
              "                                                                 0.0410904102,\n",
              "                                                                 -0.0208545662,\n",
              "                                                                 0.00699981954,\n",
              "                                                                 0.0186650828,\n",
              "                                                                 -0.0542697199,\n",
              "                                                                 0.0511237122,\n",
              "                                                                 0.000879429688,\n",
              "                                                                 0.0166575424,\n",
              "                                                                 0.000537919463,\n",
              "                                                                 -0.02760957,\n",
              "                                                                 0.0828308,\n",
              "                                                                 0.0382547,\n",
              "                                                                 0.0176364016,\n",
              "                                                                 -0.031429708,\n",
              "                                                                 0.0750547424,\n",
              "                                                                 0.0169864129,\n",
              "                                                                 0.0860475898,\n",
              "                                                                 0.0520844087,\n",
              "                                                                 0.0107201086,\n",
              "                                                                 0.0516863875,\n",
              "                                                                 0.0259198323,\n",
              "                                                                 0.0222483966,\n",
              "                                                                 -0.0215065982,\n",
              "                                                                 0.00537293497,\n",
              "                                                                 -0.0565948449,\n",
              "                                                                 0.074541077,\n",
              "                                                                 0.0563953705,\n",
              "                                                                 -0.0119692404,\n",
              "                                                                 -0.0207359958,\n",
              "                                                                 0.0695865,\n",
              "                                                                 -0.0240345094,\n",
              "                                                                 -0.000175707,\n",
              "                                                                 -0.0178860109,\n",
              "                                                                 -0.107335225,\n",
              "                                                                 0.0198188387,\n",
              "                                                                 -0.0296678971,\n",
              "                                                                 -4.82872187e-35,\n",
              "                                                                 -0.0840568766,\n",
              "                                                                 0.0611777604,\n",
              "                                                                 -0.0756036639,\n",
              "                                                                 -0.00181170588,\n",
              "                                                                 0.000955869036,\n",
              "                                                                 -0.0232017227,\n",
              "                                                                 0.00974662788,\n",
              "                                                                 0.000661060447,\n",
              "                                                                 0.0679865927,\n",
              "                                                                 -0.0269075893,\n",
              "                                                                 -0.0080710575,\n",
              "                                                                 -0.122243032,\n",
              "                                                                 0.0012470542,\n",
              "                                                                 0.0265022684,\n",
              "                                                                 0.00858492777,\n",
              "                                                                 0.0114027672,\n",
              "                                                                 -0.0284962393,\n",
              "                                                                 -0.0559671,\n",
              "                                                                 -0.079524219,\n",
              "                                                                 -0.010570799,\n",
              "                                                                 -0.0261122286,\n",
              "                                                                 -0.000220274917,\n",
              "                                                                 -0.0670779049,\n",
              "                                                                 0.0224011913,\n",
              "                                                                 -0.0464722216,\n",
              "                                                                 -0.0557282083,\n",
              "                                                                 -0.0675899237,\n",
              "                                                                 -0.0189270806,\n",
              "                                                                 0.021697741,\n",
              "                                                                 -0.0273402166,\n",
              "                                                                 -0.0476561971,\n",
              "                                                                 -0.145441011,\n",
              "                                                                 0.00957601052,\n",
              "                                                                 0.0240139682,\n",
              "                                                                 -0.0199910533,\n",
              "                                                                 0.0191884916,\n",
              "                                                                 0.121699527,\n",
              "                                                                 0.0156378746,\n",
              "                                                                 -0.0139013063,\n",
              "                                                                 -0.0869880766,\n",
              "                                                                 0.00904293451,\n",
              "                                                                 0.0456434302,\n",
              "                                                                 -0.0437237099,\n",
              "                                                                 0.0202633403,\n",
              "                                                                 -0.0351311639,\n",
              "                                                                 0.0655610859,\n",
              "                                                                 -0.0609476641,\n",
              "                                                                 0.0118850665,\n",
              "                                                                 -0.0220354665,\n",
              "                                                                 -0.000797451125,\n",
              "                                                                 0.00324330013,\n",
              "                                                                 -0.00253878837,\n",
              "                                                                 -0.011055056,\n",
              "                                                                 0.110402212,\n",
              "                                                                 0.0430918038,\n",
              "                                                                 0.0485530309,\n",
              "                                                                 0.083194375,\n",
              "                                                                 0.0375346,\n",
              "                                                                 -0.0503292382,\n",
              "                                                                 0.00197127392,\n",
              "                                                                 -0.0152226202,\n",
              "                                                                 0.063280642,\n",
              "                                                                 -0.0958768427,\n",
              "                                                                 0.0263848417,\n",
              "                                                                 0.0103074592,\n",
              "                                                                 -0.052352991,\n",
              "                                                                 0.0831670389,\n",
              "                                                                 -0.139675334,\n",
              "                                                                 -0.0547323227,\n",
              "                                                                 0.0141270142,\n",
              "                                                                 0.0175481364,\n",
              "                                                                 -0.0563962124,\n",
              "                                                                 0.050410606,\n",
              "                                                                 -0.0753924,\n",
              "                                                                 -0.0362767316,\n",
              "                                                                 -0.0240518581,\n",
              "                                                                 0.00576094165,\n",
              "                                                                 0.0767145157,\n",
              "                                                                 0.0299648326,\n",
              "                                                                 0.0234273952,\n",
              "                                                                 0.0661172271,\n",
              "                                                                 -0.0403984822,\n",
              "                                                                 0.0329721458,\n",
              "                                                                 0.00293100812,\n",
              "                                                                 -0.0456750318,\n",
              "                                                                 0.0340103321,\n",
              "                                                                 0.0407056063,\n",
              "                                                                 -0.0820066482,\n",
              "                                                                 -0.0438710041,\n",
              "                                                                 0.0235608034,\n",
              "                                                                 -0.0465609878,\n",
              "                                                                 -0.0531960838,\n",
              "                                                                 -0.102738895,\n",
              "                                                                 -0.0629523546,\n",
              "                                                                 -0.0296881758,\n",
              "                                                                 -2.88091169e-08,\n",
              "                                                                 0.0356502198,\n",
              "                                                                 0.0203846637,\n",
              "                                                                 -0.0310363956,\n",
              "                                                                 0.0640905127,\n",
              "                                                                 0.00496333418,\n",
              "                                                                 0.0384867303,\n",
              "                                                                 0.0751973316,\n",
              "                                                                 0.0836721,\n",
              "                                                                 -0.04971423,\n",
              "                                                                 -0.00354331103,\n",
              "                                                                 0.039795924,\n",
              "                                                                 0.024260968,\n",
              "                                                                 -0.0412781462,\n",
              "                                                                 -0.0333184,\n",
              "                                                                 -0.000950876682,\n",
              "                                                                 0.0161690805,\n",
              "                                                                 0.0597992651,\n",
              "                                                                 0.0212687,\n",
              "                                                                 0.0457115471,\n",
              "                                                                 -0.0357787088,\n",
              "                                                                 -0.0168073177,\n",
              "                                                                 0.0532994084,\n",
              "                                                                 0.0237366,\n",
              "                                                                 0.0430090651,\n",
              "                                                                 0.000205259072,\n",
              "                                                                 0.0681463256,\n",
              "                                                                 -0.0674146,\n",
              "                                                                 -0.0593158938,\n",
              "                                                                 0.0305275284,\n",
              "                                                                 -0.00855778251,\n",
              "                                                                 -0.0416082293,\n",
              "                                                                 -0.0284130815,\n",
              "                                                                 -0.0346566737,\n",
              "                                                                 -0.119939215,\n",
              "                                                                 0.0559852384,\n",
              "                                                                 -0.0168591626,\n",
              "                                                                 -0.0958515257,\n",
              "                                                                 -0.0564125739,\n",
              "                                                                 -0.0153812366,\n",
              "                                                                 -0.0719444528,\n",
              "                                                                 0.0589253791,\n",
              "                                                                 0.0781992525,\n",
              "                                                                 -0.0127310464,\n",
              "                                                                 0.0185769182,\n",
              "                                                                 0.0850911736,\n",
              "                                                                 -0.0512161106,\n",
              "                                                                 -0.0463102348,\n",
              "                                                                 0.082577765,\n",
              "                                                                 0.0366786122,\n",
              "                                                                 -0.00775988819,\n",
              "                                                                 0.0409807675,\n",
              "                                                                 -0.0850703344,\n",
              "                                                                 -0.0462690443,\n",
              "                                                                 0.0443090387,\n",
              "                                                                 -0.0455555059,\n",
              "                                                                 0.0509198345,\n",
              "                                                                 0.0721476674,\n",
              "                                                                 -0.0656134188,\n",
              "                                                                 0.0462163091,\n",
              "                                                                 -0.0378886648,\n",
              "                                                                 0.0865819901,\n",
              "                                                                 -0.0107717784,\n",
              "                                                                 -0.00298870495,\n",
              "                                                                 -0.0009565152]}}}"
            ]
          },
          "metadata": {},
          "execution_count": 128
        }
      ]
    },
    {
      "cell_type": "code",
      "source": [
        "\n",
        "test_descrip=[' Predict whether income exceeds  census data. Adult.']\n",
        "vector = hf.embed_documents(test_descrip)\n",
        "result = index.query(\n",
        "  vector,\n",
        "  top_k=1,\n",
        "  include_values=True\n",
        ")\n",
        "\n"
      ],
      "metadata": {
        "id": "-sc-23PElAtq"
      },
      "execution_count": null,
      "outputs": []
    },
    {
      "cell_type": "code",
      "source": [
        "indexes = total_id.index(result['matches'][0]['id'])\n",
        "print(dataset_name[indexes])\n"
      ],
      "metadata": {
        "colab": {
          "base_uri": "https://localhost:8080/"
        },
        "id": "wZhP5HppmbN8",
        "outputId": "d65852a4-ff88-4877-f687-93b4daa99227"
      },
      "execution_count": null,
      "outputs": [
        {
          "output_type": "stream",
          "name": "stdout",
          "text": [
            "Census Income\n"
          ]
        }
      ]
    },
    {
      "cell_type": "code",
      "execution_count": null,
      "metadata": {
        "colab": {
          "base_uri": "https://localhost:8080/"
        },
        "id": "MkEwaRLp7cfP",
        "outputId": "f7f866d8-f96b-4ed5-eb0d-4b86c61f9816"
      },
      "outputs": [
        {
          "output_type": "execute_result",
          "data": {
            "text/plain": [
              "IndexDescription(name='firsttry', metric='cosine', replicas=1, dimension=384.0, shards=1, pods=1, pod_type='p1', status={'ready': True, 'state': 'Ready'}, metadata_config=None, source_collection='')"
            ]
          },
          "metadata": {},
          "execution_count": 146
        }
      ],
      "source": [
        "pinecone.describe_index(\"firsttry\")"
      ]
    },
    {
      "cell_type": "code",
      "source": [],
      "metadata": {
        "id": "bzoqaTtDujZw"
      },
      "execution_count": null,
      "outputs": []
    },
    {
      "cell_type": "code",
      "source": [],
      "metadata": {
        "id": "AyQ-L-9ZujV_"
      },
      "execution_count": null,
      "outputs": []
    },
    {
      "cell_type": "code",
      "source": [],
      "metadata": {
        "id": "uyijvEtDujTV"
      },
      "execution_count": null,
      "outputs": []
    },
    {
      "cell_type": "code",
      "source": [],
      "metadata": {
        "id": "ih8IBO5YujP9"
      },
      "execution_count": null,
      "outputs": []
    },
    {
      "cell_type": "code",
      "source": [],
      "metadata": {
        "id": "yZNuaw4WujDe"
      },
      "execution_count": null,
      "outputs": []
    },
    {
      "cell_type": "code",
      "source": [],
      "metadata": {
        "id": "b-BNnyM1ui61"
      },
      "execution_count": null,
      "outputs": []
    },
    {
      "cell_type": "code",
      "source": [],
      "metadata": {
        "id": "X8F3XhFFuim3"
      },
      "execution_count": null,
      "outputs": []
    },
    {
      "cell_type": "code",
      "source": [
        "from langchain.vectorstores import Pinecone\n",
        "\n",
        "text_field = \"text\"\n",
        "\n",
        "# switch back to normal index for langchain\n",
        "index = pinecone.Index(index_name)\n",
        "\n",
        "vectorstore = Pinecone(\n",
        "    index, embed.embed_query, text_field\n",
        ")"
      ],
      "metadata": {
        "id": "tVdrbFP5lDjH"
      },
      "execution_count": null,
      "outputs": []
    },
    {
      "cell_type": "code",
      "execution_count": null,
      "metadata": {
        "colab": {
          "base_uri": "https://localhost:8080/",
          "height": 247
        },
        "id": "9mPEpZPYeeLE",
        "outputId": "773f7de4-5b18-471c-bdb7-cdbcf3872db6"
      },
      "outputs": [
        {
          "output_type": "error",
          "ename": "NameError",
          "evalue": "ignored",
          "traceback": [
            "\u001b[0;31m---------------------------------------------------------------------------\u001b[0m",
            "\u001b[0;31mNameError\u001b[0m                                 Traceback (most recent call last)",
            "\u001b[0;32m<ipython-input-67-91be791b53ab>\u001b[0m in \u001b[0;36m<cell line: 3>\u001b[0;34m()\u001b[0m\n\u001b[1;32m      1\u001b[0m \u001b[0mquery\u001b[0m \u001b[0;34m=\u001b[0m \u001b[0;34m\"who was Benito Mussolini?\"\u001b[0m\u001b[0;34m\u001b[0m\u001b[0;34m\u001b[0m\u001b[0m\n\u001b[1;32m      2\u001b[0m \u001b[0;34m\u001b[0m\u001b[0m\n\u001b[0;32m----> 3\u001b[0;31m vectorstore.similarity_search(\n\u001b[0m\u001b[1;32m      4\u001b[0m     \u001b[0mquery\u001b[0m\u001b[0;34m,\u001b[0m  \u001b[0;31m# our search query\u001b[0m\u001b[0;34m\u001b[0m\u001b[0;34m\u001b[0m\u001b[0m\n\u001b[1;32m      5\u001b[0m     \u001b[0mk\u001b[0m\u001b[0;34m=\u001b[0m\u001b[0;36m3\u001b[0m  \u001b[0;31m# return 3 most relevant docs\u001b[0m\u001b[0;34m\u001b[0m\u001b[0;34m\u001b[0m\u001b[0m\n",
            "\u001b[0;31mNameError\u001b[0m: name 'vectorstore' is not defined"
          ]
        }
      ],
      "source": [
        "query = \"who was Benito Mussolini?\"\n",
        "\n",
        "vectorstore.similarity_search(\n",
        "    query,  # our search query\n",
        "    k=3  # return 3 most relevant docs\n",
        ")"
      ]
    },
    {
      "cell_type": "code",
      "source": [],
      "metadata": {
        "id": "gwEGFySWkP9O"
      },
      "execution_count": null,
      "outputs": []
    }
  ],
  "metadata": {
    "colab": {
      "provenance": []
    },
    "kernelspec": {
      "display_name": "Python 3",
      "name": "python3"
    },
    "language_info": {
      "name": "python"
    },
    "widgets": {
      "application/vnd.jupyter.widget-state+json": {
        "afe77170ed6c4a96aae1b9ea872dbb38": {
          "model_module": "@jupyter-widgets/controls",
          "model_name": "HBoxModel",
          "model_module_version": "1.5.0",
          "state": {
            "_dom_classes": [],
            "_model_module": "@jupyter-widgets/controls",
            "_model_module_version": "1.5.0",
            "_model_name": "HBoxModel",
            "_view_count": null,
            "_view_module": "@jupyter-widgets/controls",
            "_view_module_version": "1.5.0",
            "_view_name": "HBoxView",
            "box_style": "",
            "children": [
              "IPY_MODEL_a10596f918004da38de201e6545be3ea",
              "IPY_MODEL_e2621039f030490488e63c9adfea38c2",
              "IPY_MODEL_8cd4b367cd264234b53fb7786d05a556"
            ],
            "layout": "IPY_MODEL_d24d1a70ec1a42769ec2aee357fea6b3"
          }
        },
        "a10596f918004da38de201e6545be3ea": {
          "model_module": "@jupyter-widgets/controls",
          "model_name": "HTMLModel",
          "model_module_version": "1.5.0",
          "state": {
            "_dom_classes": [],
            "_model_module": "@jupyter-widgets/controls",
            "_model_module_version": "1.5.0",
            "_model_name": "HTMLModel",
            "_view_count": null,
            "_view_module": "@jupyter-widgets/controls",
            "_view_module_version": "1.5.0",
            "_view_name": "HTMLView",
            "description": "",
            "description_tooltip": null,
            "layout": "IPY_MODEL_73e769a4b145422cae1116b57d7e84e7",
            "placeholder": "​",
            "style": "IPY_MODEL_766a83c056c54cb8948da0add24c1bcb",
            "value": "100%"
          }
        },
        "e2621039f030490488e63c9adfea38c2": {
          "model_module": "@jupyter-widgets/controls",
          "model_name": "FloatProgressModel",
          "model_module_version": "1.5.0",
          "state": {
            "_dom_classes": [],
            "_model_module": "@jupyter-widgets/controls",
            "_model_module_version": "1.5.0",
            "_model_name": "FloatProgressModel",
            "_view_count": null,
            "_view_module": "@jupyter-widgets/controls",
            "_view_module_version": "1.5.0",
            "_view_name": "ProgressView",
            "bar_style": "success",
            "description": "",
            "description_tooltip": null,
            "layout": "IPY_MODEL_6a191b017c604d84bc6b947fb8f92c3b",
            "max": 1,
            "min": 0,
            "orientation": "horizontal",
            "style": "IPY_MODEL_50c0613abf124945a1d01a6044750e6d",
            "value": 1
          }
        },
        "8cd4b367cd264234b53fb7786d05a556": {
          "model_module": "@jupyter-widgets/controls",
          "model_name": "HTMLModel",
          "model_module_version": "1.5.0",
          "state": {
            "_dom_classes": [],
            "_model_module": "@jupyter-widgets/controls",
            "_model_module_version": "1.5.0",
            "_model_name": "HTMLModel",
            "_view_count": null,
            "_view_module": "@jupyter-widgets/controls",
            "_view_module_version": "1.5.0",
            "_view_name": "HTMLView",
            "description": "",
            "description_tooltip": null,
            "layout": "IPY_MODEL_2dc67d61e89e4f9eada25178b5529faf",
            "placeholder": "​",
            "style": "IPY_MODEL_e4b169f4be9141ed9ad7302877f211d0",
            "value": " 1/1 [00:00&lt;00:00, 41.12it/s]"
          }
        },
        "d24d1a70ec1a42769ec2aee357fea6b3": {
          "model_module": "@jupyter-widgets/base",
          "model_name": "LayoutModel",
          "model_module_version": "1.2.0",
          "state": {
            "_model_module": "@jupyter-widgets/base",
            "_model_module_version": "1.2.0",
            "_model_name": "LayoutModel",
            "_view_count": null,
            "_view_module": "@jupyter-widgets/base",
            "_view_module_version": "1.2.0",
            "_view_name": "LayoutView",
            "align_content": null,
            "align_items": null,
            "align_self": null,
            "border": null,
            "bottom": null,
            "display": null,
            "flex": null,
            "flex_flow": null,
            "grid_area": null,
            "grid_auto_columns": null,
            "grid_auto_flow": null,
            "grid_auto_rows": null,
            "grid_column": null,
            "grid_gap": null,
            "grid_row": null,
            "grid_template_areas": null,
            "grid_template_columns": null,
            "grid_template_rows": null,
            "height": null,
            "justify_content": null,
            "justify_items": null,
            "left": null,
            "margin": null,
            "max_height": null,
            "max_width": null,
            "min_height": null,
            "min_width": null,
            "object_fit": null,
            "object_position": null,
            "order": null,
            "overflow": null,
            "overflow_x": null,
            "overflow_y": null,
            "padding": null,
            "right": null,
            "top": null,
            "visibility": null,
            "width": null
          }
        },
        "73e769a4b145422cae1116b57d7e84e7": {
          "model_module": "@jupyter-widgets/base",
          "model_name": "LayoutModel",
          "model_module_version": "1.2.0",
          "state": {
            "_model_module": "@jupyter-widgets/base",
            "_model_module_version": "1.2.0",
            "_model_name": "LayoutModel",
            "_view_count": null,
            "_view_module": "@jupyter-widgets/base",
            "_view_module_version": "1.2.0",
            "_view_name": "LayoutView",
            "align_content": null,
            "align_items": null,
            "align_self": null,
            "border": null,
            "bottom": null,
            "display": null,
            "flex": null,
            "flex_flow": null,
            "grid_area": null,
            "grid_auto_columns": null,
            "grid_auto_flow": null,
            "grid_auto_rows": null,
            "grid_column": null,
            "grid_gap": null,
            "grid_row": null,
            "grid_template_areas": null,
            "grid_template_columns": null,
            "grid_template_rows": null,
            "height": null,
            "justify_content": null,
            "justify_items": null,
            "left": null,
            "margin": null,
            "max_height": null,
            "max_width": null,
            "min_height": null,
            "min_width": null,
            "object_fit": null,
            "object_position": null,
            "order": null,
            "overflow": null,
            "overflow_x": null,
            "overflow_y": null,
            "padding": null,
            "right": null,
            "top": null,
            "visibility": null,
            "width": null
          }
        },
        "766a83c056c54cb8948da0add24c1bcb": {
          "model_module": "@jupyter-widgets/controls",
          "model_name": "DescriptionStyleModel",
          "model_module_version": "1.5.0",
          "state": {
            "_model_module": "@jupyter-widgets/controls",
            "_model_module_version": "1.5.0",
            "_model_name": "DescriptionStyleModel",
            "_view_count": null,
            "_view_module": "@jupyter-widgets/base",
            "_view_module_version": "1.2.0",
            "_view_name": "StyleView",
            "description_width": ""
          }
        },
        "6a191b017c604d84bc6b947fb8f92c3b": {
          "model_module": "@jupyter-widgets/base",
          "model_name": "LayoutModel",
          "model_module_version": "1.2.0",
          "state": {
            "_model_module": "@jupyter-widgets/base",
            "_model_module_version": "1.2.0",
            "_model_name": "LayoutModel",
            "_view_count": null,
            "_view_module": "@jupyter-widgets/base",
            "_view_module_version": "1.2.0",
            "_view_name": "LayoutView",
            "align_content": null,
            "align_items": null,
            "align_self": null,
            "border": null,
            "bottom": null,
            "display": null,
            "flex": null,
            "flex_flow": null,
            "grid_area": null,
            "grid_auto_columns": null,
            "grid_auto_flow": null,
            "grid_auto_rows": null,
            "grid_column": null,
            "grid_gap": null,
            "grid_row": null,
            "grid_template_areas": null,
            "grid_template_columns": null,
            "grid_template_rows": null,
            "height": null,
            "justify_content": null,
            "justify_items": null,
            "left": null,
            "margin": null,
            "max_height": null,
            "max_width": null,
            "min_height": null,
            "min_width": null,
            "object_fit": null,
            "object_position": null,
            "order": null,
            "overflow": null,
            "overflow_x": null,
            "overflow_y": null,
            "padding": null,
            "right": null,
            "top": null,
            "visibility": null,
            "width": null
          }
        },
        "50c0613abf124945a1d01a6044750e6d": {
          "model_module": "@jupyter-widgets/controls",
          "model_name": "ProgressStyleModel",
          "model_module_version": "1.5.0",
          "state": {
            "_model_module": "@jupyter-widgets/controls",
            "_model_module_version": "1.5.0",
            "_model_name": "ProgressStyleModel",
            "_view_count": null,
            "_view_module": "@jupyter-widgets/base",
            "_view_module_version": "1.2.0",
            "_view_name": "StyleView",
            "bar_color": null,
            "description_width": ""
          }
        },
        "2dc67d61e89e4f9eada25178b5529faf": {
          "model_module": "@jupyter-widgets/base",
          "model_name": "LayoutModel",
          "model_module_version": "1.2.0",
          "state": {
            "_model_module": "@jupyter-widgets/base",
            "_model_module_version": "1.2.0",
            "_model_name": "LayoutModel",
            "_view_count": null,
            "_view_module": "@jupyter-widgets/base",
            "_view_module_version": "1.2.0",
            "_view_name": "LayoutView",
            "align_content": null,
            "align_items": null,
            "align_self": null,
            "border": null,
            "bottom": null,
            "display": null,
            "flex": null,
            "flex_flow": null,
            "grid_area": null,
            "grid_auto_columns": null,
            "grid_auto_flow": null,
            "grid_auto_rows": null,
            "grid_column": null,
            "grid_gap": null,
            "grid_row": null,
            "grid_template_areas": null,
            "grid_template_columns": null,
            "grid_template_rows": null,
            "height": null,
            "justify_content": null,
            "justify_items": null,
            "left": null,
            "margin": null,
            "max_height": null,
            "max_width": null,
            "min_height": null,
            "min_width": null,
            "object_fit": null,
            "object_position": null,
            "order": null,
            "overflow": null,
            "overflow_x": null,
            "overflow_y": null,
            "padding": null,
            "right": null,
            "top": null,
            "visibility": null,
            "width": null
          }
        },
        "e4b169f4be9141ed9ad7302877f211d0": {
          "model_module": "@jupyter-widgets/controls",
          "model_name": "DescriptionStyleModel",
          "model_module_version": "1.5.0",
          "state": {
            "_model_module": "@jupyter-widgets/controls",
            "_model_module_version": "1.5.0",
            "_model_name": "DescriptionStyleModel",
            "_view_count": null,
            "_view_module": "@jupyter-widgets/base",
            "_view_module_version": "1.2.0",
            "_view_name": "StyleView",
            "description_width": ""
          }
        },
        "8b9bb8174ce3499cb67216a88baacbda": {
          "model_module": "@jupyter-widgets/controls",
          "model_name": "HBoxModel",
          "model_module_version": "1.5.0",
          "state": {
            "_dom_classes": [],
            "_model_module": "@jupyter-widgets/controls",
            "_model_module_version": "1.5.0",
            "_model_name": "HBoxModel",
            "_view_count": null,
            "_view_module": "@jupyter-widgets/controls",
            "_view_module_version": "1.5.0",
            "_view_name": "HBoxView",
            "box_style": "",
            "children": [
              "IPY_MODEL_bccb182ccf594f85a9f5ef19183dfe6c",
              "IPY_MODEL_cf6bd9c8e6c246e287aec7de3cde9e46",
              "IPY_MODEL_516ae20184fb4812a7ca6c2b5fc15070"
            ],
            "layout": "IPY_MODEL_5144c507d2004f0089a916fd760b67d4"
          }
        },
        "bccb182ccf594f85a9f5ef19183dfe6c": {
          "model_module": "@jupyter-widgets/controls",
          "model_name": "HTMLModel",
          "model_module_version": "1.5.0",
          "state": {
            "_dom_classes": [],
            "_model_module": "@jupyter-widgets/controls",
            "_model_module_version": "1.5.0",
            "_model_name": "HTMLModel",
            "_view_count": null,
            "_view_module": "@jupyter-widgets/controls",
            "_view_module_version": "1.5.0",
            "_view_name": "HTMLView",
            "description": "",
            "description_tooltip": null,
            "layout": "IPY_MODEL_a1d0a91a0af9421eb9bdc2a85af69a61",
            "placeholder": "​",
            "style": "IPY_MODEL_140289d8d72f4065862c0a0dda266b27",
            "value": "100%"
          }
        },
        "cf6bd9c8e6c246e287aec7de3cde9e46": {
          "model_module": "@jupyter-widgets/controls",
          "model_name": "FloatProgressModel",
          "model_module_version": "1.5.0",
          "state": {
            "_dom_classes": [],
            "_model_module": "@jupyter-widgets/controls",
            "_model_module_version": "1.5.0",
            "_model_name": "FloatProgressModel",
            "_view_count": null,
            "_view_module": "@jupyter-widgets/controls",
            "_view_module_version": "1.5.0",
            "_view_name": "ProgressView",
            "bar_style": "success",
            "description": "",
            "description_tooltip": null,
            "layout": "IPY_MODEL_a29824d88a82415ebbf9530b8ac8173a",
            "max": 622,
            "min": 0,
            "orientation": "horizontal",
            "style": "IPY_MODEL_c35a34e5977244f097b386a46fb98925",
            "value": 622
          }
        },
        "516ae20184fb4812a7ca6c2b5fc15070": {
          "model_module": "@jupyter-widgets/controls",
          "model_name": "HTMLModel",
          "model_module_version": "1.5.0",
          "state": {
            "_dom_classes": [],
            "_model_module": "@jupyter-widgets/controls",
            "_model_module_version": "1.5.0",
            "_model_name": "HTMLModel",
            "_view_count": null,
            "_view_module": "@jupyter-widgets/controls",
            "_view_module_version": "1.5.0",
            "_view_name": "HTMLView",
            "description": "",
            "description_tooltip": null,
            "layout": "IPY_MODEL_37b14f3f42a743dfa026d890adeb7235",
            "placeholder": "​",
            "style": "IPY_MODEL_acadb4bdaf624d6e8b826766904e08b0",
            "value": " 622/622 [00:33&lt;00:00, 17.67it/s]"
          }
        },
        "5144c507d2004f0089a916fd760b67d4": {
          "model_module": "@jupyter-widgets/base",
          "model_name": "LayoutModel",
          "model_module_version": "1.2.0",
          "state": {
            "_model_module": "@jupyter-widgets/base",
            "_model_module_version": "1.2.0",
            "_model_name": "LayoutModel",
            "_view_count": null,
            "_view_module": "@jupyter-widgets/base",
            "_view_module_version": "1.2.0",
            "_view_name": "LayoutView",
            "align_content": null,
            "align_items": null,
            "align_self": null,
            "border": null,
            "bottom": null,
            "display": null,
            "flex": null,
            "flex_flow": null,
            "grid_area": null,
            "grid_auto_columns": null,
            "grid_auto_flow": null,
            "grid_auto_rows": null,
            "grid_column": null,
            "grid_gap": null,
            "grid_row": null,
            "grid_template_areas": null,
            "grid_template_columns": null,
            "grid_template_rows": null,
            "height": null,
            "justify_content": null,
            "justify_items": null,
            "left": null,
            "margin": null,
            "max_height": null,
            "max_width": null,
            "min_height": null,
            "min_width": null,
            "object_fit": null,
            "object_position": null,
            "order": null,
            "overflow": null,
            "overflow_x": null,
            "overflow_y": null,
            "padding": null,
            "right": null,
            "top": null,
            "visibility": null,
            "width": null
          }
        },
        "a1d0a91a0af9421eb9bdc2a85af69a61": {
          "model_module": "@jupyter-widgets/base",
          "model_name": "LayoutModel",
          "model_module_version": "1.2.0",
          "state": {
            "_model_module": "@jupyter-widgets/base",
            "_model_module_version": "1.2.0",
            "_model_name": "LayoutModel",
            "_view_count": null,
            "_view_module": "@jupyter-widgets/base",
            "_view_module_version": "1.2.0",
            "_view_name": "LayoutView",
            "align_content": null,
            "align_items": null,
            "align_self": null,
            "border": null,
            "bottom": null,
            "display": null,
            "flex": null,
            "flex_flow": null,
            "grid_area": null,
            "grid_auto_columns": null,
            "grid_auto_flow": null,
            "grid_auto_rows": null,
            "grid_column": null,
            "grid_gap": null,
            "grid_row": null,
            "grid_template_areas": null,
            "grid_template_columns": null,
            "grid_template_rows": null,
            "height": null,
            "justify_content": null,
            "justify_items": null,
            "left": null,
            "margin": null,
            "max_height": null,
            "max_width": null,
            "min_height": null,
            "min_width": null,
            "object_fit": null,
            "object_position": null,
            "order": null,
            "overflow": null,
            "overflow_x": null,
            "overflow_y": null,
            "padding": null,
            "right": null,
            "top": null,
            "visibility": null,
            "width": null
          }
        },
        "140289d8d72f4065862c0a0dda266b27": {
          "model_module": "@jupyter-widgets/controls",
          "model_name": "DescriptionStyleModel",
          "model_module_version": "1.5.0",
          "state": {
            "_model_module": "@jupyter-widgets/controls",
            "_model_module_version": "1.5.0",
            "_model_name": "DescriptionStyleModel",
            "_view_count": null,
            "_view_module": "@jupyter-widgets/base",
            "_view_module_version": "1.2.0",
            "_view_name": "StyleView",
            "description_width": ""
          }
        },
        "a29824d88a82415ebbf9530b8ac8173a": {
          "model_module": "@jupyter-widgets/base",
          "model_name": "LayoutModel",
          "model_module_version": "1.2.0",
          "state": {
            "_model_module": "@jupyter-widgets/base",
            "_model_module_version": "1.2.0",
            "_model_name": "LayoutModel",
            "_view_count": null,
            "_view_module": "@jupyter-widgets/base",
            "_view_module_version": "1.2.0",
            "_view_name": "LayoutView",
            "align_content": null,
            "align_items": null,
            "align_self": null,
            "border": null,
            "bottom": null,
            "display": null,
            "flex": null,
            "flex_flow": null,
            "grid_area": null,
            "grid_auto_columns": null,
            "grid_auto_flow": null,
            "grid_auto_rows": null,
            "grid_column": null,
            "grid_gap": null,
            "grid_row": null,
            "grid_template_areas": null,
            "grid_template_columns": null,
            "grid_template_rows": null,
            "height": null,
            "justify_content": null,
            "justify_items": null,
            "left": null,
            "margin": null,
            "max_height": null,
            "max_width": null,
            "min_height": null,
            "min_width": null,
            "object_fit": null,
            "object_position": null,
            "order": null,
            "overflow": null,
            "overflow_x": null,
            "overflow_y": null,
            "padding": null,
            "right": null,
            "top": null,
            "visibility": null,
            "width": null
          }
        },
        "c35a34e5977244f097b386a46fb98925": {
          "model_module": "@jupyter-widgets/controls",
          "model_name": "ProgressStyleModel",
          "model_module_version": "1.5.0",
          "state": {
            "_model_module": "@jupyter-widgets/controls",
            "_model_module_version": "1.5.0",
            "_model_name": "ProgressStyleModel",
            "_view_count": null,
            "_view_module": "@jupyter-widgets/base",
            "_view_module_version": "1.2.0",
            "_view_name": "StyleView",
            "bar_color": null,
            "description_width": ""
          }
        },
        "37b14f3f42a743dfa026d890adeb7235": {
          "model_module": "@jupyter-widgets/base",
          "model_name": "LayoutModel",
          "model_module_version": "1.2.0",
          "state": {
            "_model_module": "@jupyter-widgets/base",
            "_model_module_version": "1.2.0",
            "_model_name": "LayoutModel",
            "_view_count": null,
            "_view_module": "@jupyter-widgets/base",
            "_view_module_version": "1.2.0",
            "_view_name": "LayoutView",
            "align_content": null,
            "align_items": null,
            "align_self": null,
            "border": null,
            "bottom": null,
            "display": null,
            "flex": null,
            "flex_flow": null,
            "grid_area": null,
            "grid_auto_columns": null,
            "grid_auto_flow": null,
            "grid_auto_rows": null,
            "grid_column": null,
            "grid_gap": null,
            "grid_row": null,
            "grid_template_areas": null,
            "grid_template_columns": null,
            "grid_template_rows": null,
            "height": null,
            "justify_content": null,
            "justify_items": null,
            "left": null,
            "margin": null,
            "max_height": null,
            "max_width": null,
            "min_height": null,
            "min_width": null,
            "object_fit": null,
            "object_position": null,
            "order": null,
            "overflow": null,
            "overflow_x": null,
            "overflow_y": null,
            "padding": null,
            "right": null,
            "top": null,
            "visibility": null,
            "width": null
          }
        },
        "acadb4bdaf624d6e8b826766904e08b0": {
          "model_module": "@jupyter-widgets/controls",
          "model_name": "DescriptionStyleModel",
          "model_module_version": "1.5.0",
          "state": {
            "_model_module": "@jupyter-widgets/controls",
            "_model_module_version": "1.5.0",
            "_model_name": "DescriptionStyleModel",
            "_view_count": null,
            "_view_module": "@jupyter-widgets/base",
            "_view_module_version": "1.2.0",
            "_view_name": "StyleView",
            "description_width": ""
          }
        }
      }
    }
  },
  "nbformat": 4,
  "nbformat_minor": 0
}